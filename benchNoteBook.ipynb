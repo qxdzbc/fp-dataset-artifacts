{
 "cells": [
  {
   "cell_type": "code",
   "execution_count": 19,
   "id": "295414e6",
   "metadata": {},
   "outputs": [
    {
     "name": "stderr",
     "output_type": "stream",
     "text": [
      "Found cached dataset snli (/Users/phong/.cache/huggingface/datasets/snli/plain_text/1.0.0/1f60b67533b65ae0275561ff7828aad5ee4282d0e6f844fd148d05d3c6ea251b)\n",
      "100%|█████████████████████████████████████████████████████████████████████████████████████████████████████████████████████████████| 3/3 [00:00<00:00, 777.64it/s]\n"
     ]
    }
   ],
   "source": [
    "%run ./bench.py"
   ]
  },
  {
   "cell_type": "code",
   "execution_count": 5,
   "id": "4314eae9",
   "metadata": {},
   "outputs": [
    {
     "name": "stderr",
     "output_type": "stream",
     "text": [
      "Found cached dataset snli (/Users/phong/.cache/huggingface/datasets/snli/plain_text/1.0.0/1f60b67533b65ae0275561ff7828aad5ee4282d0e6f844fd148d05d3c6ea251b)\n",
      "100%|█████████████████████████████████████████████████████████████████████████████████████████████████████████████████████████████| 3/3 [00:00<00:00, 427.71it/s]\n"
     ]
    }
   ],
   "source": []
  },
  {
   "cell_type": "code",
   "execution_count": 22,
   "id": "2426a71d",
   "metadata": {},
   "outputs": [
    {
     "name": "stdout",
     "output_type": "stream",
     "text": [
      "{\"subsequenceCount\": 274, \"constituentCount\": 1054, \"lexicalOverlapCount\": 18938, \"totalEntailmentCount\": 183416}\n",
      "{\"subsequenceCount\": 26, \"constituentCount\": 36, \"lexicalOverlapCount\": 11801, \"totalEntailmentCount\": 182764}\n",
      "{\"subsequenceCount\": 20, \"constituentCount\": 13, \"lexicalOverlapCount\": 7410, \"totalEntailmentCount\": 183187}\n"
     ]
    }
   ],
   "source": [
    "print(entailmentBiasInTrainDataResult_label0.__str__())\n",
    "print(entailmentBiasInTrainDataResult_label1.__str__())\n",
    "print(entailmentBiasInTrainDataResult_label2.__str__())"
   ]
  },
  {
   "cell_type": "code",
   "execution_count": 4,
   "id": "6d804cfa",
   "metadata": {},
   "outputs": [
    {
     "name": "stdout",
     "output_type": "stream",
     "text": [
      "[3044, 2758, 2930]\n",
      "[0.348602831363678, 0.31584975123405457, 0.33554741740226746]\n",
      "[324, 461, 307]\n",
      "[0.2967033088207245, 0.42216116189956665, 0.28113552927970886]\n"
     ]
    }
   ],
   "source": [
    "correctStat = computeCorrectStatistic()\n",
    "crTensor = torch.tensor([\n",
    "    len(correctStat[0]),\n",
    "    len(correctStat[1]),\n",
    "    len(correctStat[2]),\n",
    "])\n",
    "\n",
    "print(crTensor.tolist())\n",
    "print((crTensor/torch.sum(crTensor)).tolist())\n",
    "\n",
    "incorrectCount = computeIncorrectStat()\n",
    "ircTensor = torch.tensor([\n",
    "    len(incorrectCount[0]),\n",
    "    len(incorrectCount[1]),\n",
    "    len(incorrectCount[2]),\n",
    "])\n",
    "\n",
    "print(ircTensor.tolist())\n",
    "print((ircTensor/torch.sum(ircTensor)).tolist())\n"
   ]
  },
  {
   "cell_type": "code",
   "execution_count": 18,
   "id": "2f7d2746",
   "metadata": {},
   "outputs": [],
   "source": [
    "with open(\"testData_only_0.json\",\"w\") as file:\n",
    "    jsonStr = json.dumps(contrastData_0)\n",
    "    file.write(jsonStr)\n",
    "with open(\"testData_only_1.json\",\"w\") as file:\n",
    "    jsonStr = json.dumps(contrastData_1)\n",
    "    file.write(jsonStr)\n",
    "\n",
    "with open(\"testData_only_2.json\",\"w\") as file:\n",
    "    jsonStr = json.dumps(contrastData_2)\n",
    "    file.write(jsonStr)"
   ]
  },
  {
   "cell_type": "code",
   "execution_count": 23,
   "id": "605d37fc",
   "metadata": {},
   "outputs": [
    {
     "data": {
      "text/plain": [
       "3368"
      ]
     },
     "execution_count": 23,
     "metadata": {},
     "output_type": "execute_result"
    }
   ],
   "source": [
    "len(contrastData_0)"
   ]
  }
 ],
 "metadata": {
  "kernelspec": {
   "display_name": "Python 3 (ipykernel)",
   "language": "python",
   "name": "python3"
  },
  "language_info": {
   "codemirror_mode": {
    "name": "ipython",
    "version": 3
   },
   "file_extension": ".py",
   "mimetype": "text/x-python",
   "name": "python",
   "nbconvert_exporter": "python",
   "pygments_lexer": "ipython3",
   "version": "3.10.9"
  }
 },
 "nbformat": 4,
 "nbformat_minor": 5
}
